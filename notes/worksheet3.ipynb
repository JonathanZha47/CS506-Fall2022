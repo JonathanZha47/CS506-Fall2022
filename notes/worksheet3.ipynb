{
 "cells": [
  {
   "cell_type": "markdown",
   "metadata": {},
   "source": [
    "# Worksheet 03\n",
    "\n",
    "Name: Yiwei Zha \n",
    "UID: U74968240\n",
    "\n",
    "### Topics\n",
    "\n",
    "- Intro to DS (part 2)\n",
    "- Distance & Similarity\n",
    "\n",
    "### Before Class\n",
    "\n",
    "Read through the [linear algebra review](https://github.com/gallettilance/CS506-Fall2022/raw/master/worksheets/lecture_03_linear_algebra_review.pdf) before next class\n",
    "\n",
    "### Intro to DS (part 2)\n",
    "\n",
    "a) Give a real world example for each of the following data types:\n",
    "\n",
    "- record\n",
    "- graph\n",
    "- image\n",
    "- text\n",
    "- time series"
   ]
  },
  {
   "cell_type": "markdown",
   "metadata": {},
   "source": [
    "    - record    n dimensional points/vectors\n",
    "    - graph    nodes connected by edges that can be represented in adjacency matrix and adjacency list\n",
    "    - image    images are broken into pixels, matrix of pixels\n",
    "    - Text     documents presented by lists of words\n",
    "    - time series    list of data at a given interval of time"
   ]
  },
  {
   "cell_type": "markdown",
   "metadata": {},
   "source": [
    "b) Give a real world example of unsupervised learning"
   ]
  },
  {
   "cell_type": "markdown",
   "metadata": {},
   "source": [
    "if that is a graph:\n",
    "looking at the interesting structure in the data\n",
    "- find patterns\n",
    "- what can be learnt from patterns\n",
    "if that is a matrix:\n",
    "- what is the rank and determinant of the matrix\n",
    "- what are the linear algebra properties of the matrix\n",
    "if that is a collection of articles\n",
    "- what are the general topics of those articles\n",
    "\n",
    "- better understand/describe the data\n",
    "    - data viasualization/exploration\n",
    "    - recommmender systems\n",
    "- fill in the gap in the data\n",
    "    - data cleaning"
   ]
  },
  {
   "cell_type": "markdown",
   "metadata": {},
   "source": [
    "c) Give a real world example of supervised learning"
   ]
  },
  {
   "cell_type": "markdown",
   "metadata": {},
   "source": [
    "- make a regression line about the data points we plotted in the graph\n",
    "- classification \n",
    "    - how to seperate catogaries by using a standard(maybe a line, maybe a number to catogarized the datapoints)"
   ]
  },
  {
   "cell_type": "markdown",
   "metadata": {},
   "source": [
    "d) Describe steps of a Data Science Workflow"
   ]
  },
  {
   "cell_type": "markdown",
   "metadata": {},
   "source": [
    "- first ask what and who the model is used/intended for(to check if that is a feasible and achievable project)\n",
    "- process data (datasets are imperfect, spend time to make the dataset good enough for analyzing)\n",
    "- explore data (to find the prospective research angle, to check the data normality)\n",
    "- extracting features(find patterns)\n",
    "- create models ( is your model easy to explain the data?)"
   ]
  },
  {
   "cell_type": "markdown",
   "metadata": {},
   "source": [
    "### Distance & Similarity\n",
    "\n",
    "#### Part 1\n",
    "\n",
    "a) In the minkowski distance, describe what the parameters p and d are."
   ]
  },
  {
   "cell_type": "markdown",
   "metadata": {},
   "source": [
    "d is a distance function if and only if \n",
    "d(i,j) = 0 if and only if i = j\n",
    "d(i,j) = d(j,i)\n",
    "d(i,j) <= d(i,k) + d(k,j)\n",
    "\n",
    "minkowski distance\n",
    "for x,y points in d - dimensional real space\n",
    "d means dimension\n",
    "p means a paramenter that provide flexibility \n"
   ]
  },
  {
   "cell_type": "markdown",
   "metadata": {},
   "source": [
    "b) In your own words describe the difference between the Euclidean distance and the Manhattan distance."
   ]
  },
  {
   "cell_type": "markdown",
   "metadata": {},
   "source": [
    "euclidean distance is when p = 2 in the minkowski distance function\n",
    "manhattan distance is when p = 1 in the minkowski distance function"
   ]
  },
  {
   "cell_type": "markdown",
   "metadata": {},
   "source": [
    "c) Describe what you think distance would look like when p is very large."
   ]
  },
  {
   "cell_type": "markdown",
   "metadata": {},
   "source": [
    "It will be more accurate."
   ]
  },
  {
   "cell_type": "markdown",
   "metadata": {},
   "source": [
    "d) Is the minkowski distance still a distance function when p < 1? Expain why / why not."
   ]
  },
  {
   "cell_type": "markdown",
   "metadata": {},
   "source": [
    "If we assume 0 < p <1 then we may find three points and conclude the triangle inequality of the triangle constructed by the three points is violated. \n",
    "So it is not a distance function."
   ]
  },
  {
   "cell_type": "markdown",
   "metadata": {},
   "source": [
    "e) when would you use cosine similarity over the euclidan distance?"
   ]
  },
  {
   "cell_type": "markdown",
   "metadata": {},
   "source": []
  },
  {
   "cell_type": "markdown",
   "metadata": {},
   "source": [
    "f) what does the jaccard distance account for that the manhattan distance doesn't?"
   ]
  },
  {
   "cell_type": "markdown",
   "metadata": {},
   "source": []
  },
  {
   "cell_type": "markdown",
   "metadata": {},
   "source": [
    "#### Part 2\n",
    "\n",
    "(easier done after lab)\n",
    "\n",
    "Consider the following two sentences:"
   ]
  },
  {
   "cell_type": "code",
   "execution_count": null,
   "metadata": {},
   "outputs": [],
   "source": [
    "s1 = \"hello my name is Alice\"  \n",
    "s2 = \"hello my name is Bob\""
   ]
  },
  {
   "cell_type": "markdown",
   "metadata": {},
   "source": [
    "using the union of words from both sentences, we can represent each sentence as a vector. Each element of the vector represents the presence or absence of the word at that index.\n",
    "\n",
    "In this example, the union of words is (\"hello\", \"my\", \"name\", \"is\", \"Alice\", \"Bob\") so we can represent the above sentences as such:"
   ]
  },
  {
   "cell_type": "code",
   "execution_count": null,
   "metadata": {},
   "outputs": [],
   "source": [
    "v1 = [1,    1, 1,   1, 1,    0]\n",
    "#     hello my name is Alice\n",
    "v2 = [1,    1, 1,   1, 0, 1]\n",
    "#     hello my name is    Bob"
   ]
  },
  {
   "cell_type": "markdown",
   "metadata": {},
   "source": [
    "Let's add a new sentence to our corpus:"
   ]
  },
  {
   "cell_type": "code",
   "execution_count": null,
   "metadata": {},
   "outputs": [],
   "source": [
    "s3 = \"hi my name is Claude\""
   ]
  },
  {
   "cell_type": "markdown",
   "metadata": {},
   "source": [
    "a) What is the new union of words used to represent s1, s2, and s3?"
   ]
  },
  {
   "cell_type": "markdown",
   "metadata": {},
   "source": [
    "（“hello\",\"hi\",\"my\",\"name\",\"is\",\"Alice\",\"Bob\",\"Claude\")"
   ]
  },
  {
   "cell_type": "markdown",
   "metadata": {},
   "source": [
    "b) Represent s1, s2, and s3 as vectors as above"
   ]
  },
  {
   "cell_type": "code",
   "execution_count": null,
   "metadata": {},
   "outputs": [],
   "source": [
    "v1 = [1, 0, 1, 1,   1, 1, 0,    0]\n",
    "#.    hello my name is Alice\n",
    "v2 = [1, 0, 1, 1,   1, 0, 1,    0]\n",
    "#     hello my name is    Bob\n",
    "v3 = [0, 1, 1, 1,   1, 0, 0,    1]\n",
    "#.       hi my name is        Claude"
   ]
  },
  {
   "cell_type": "markdown",
   "metadata": {},
   "source": [
    "c) Write a function that computes the manhattan distance between two vectors. Which pair of vectors are the most similar under that distance function?"
   ]
  },
  {
   "cell_type": "code",
   "execution_count": 8,
   "metadata": {},
   "outputs": [
    {
     "name": "stdout",
     "output_type": "stream",
     "text": [
      "0\n",
      "0\n",
      "0\n"
     ]
    }
   ],
   "source": [
    "def manhattan_dist(x, y):\n",
    "    res = 0\n",
    "    for i in range(len(x)):\n",
    "        res += (x[i] - y[i])\n",
    "    return res\n",
    "v1 = [1, 0, 1, 1,   1, 1, 0,    0]\n",
    "#.    hello my name is Alice\n",
    "v2 = [1, 0, 1, 1,   1, 0, 1,    0]\n",
    "#     hello my name is    Bob\n",
    "v3 = [0, 1, 1, 1,   1, 0, 0,    1]\n",
    "#.       hi my name is        Claude\n",
    "print(manhattan_dist(v1,v2))\n",
    "print(manhattan_dist(v1,v3))\n",
    "print(manhattan_dist(v2,v3))\n"
   ]
  },
  {
   "cell_type": "markdown",
   "metadata": {},
   "source": [
    "They all have the same distance under manhattan distance function"
   ]
  },
  {
   "cell_type": "markdown",
   "metadata": {},
   "source": [
    "d) Create a matrix of all these vectors (row major) and add the following sentences in vector form:\n",
    "\n",
    "- \"hi Alice\"\n",
    "- \"hello Claude\"\n",
    "- \"Bob my name is Claude\"\n",
    "- \"hi Claude my name is Alice\"\n",
    "- \"hello Bob\""
   ]
  },
  {
   "cell_type": "markdown",
   "metadata": {},
   "source": [
    "\"hello, i, Alice, Bob, Claude, my, name, is\"\n",
    "[[0,1,1,0,0,0,0,0],[1,0,0,0,1,0,0,0],[0,0,0,1,1,1,1,1],[0,1,1,0,1,1,1,1],[1,0,0,1,0,0,0,0]]"
   ]
  },
  {
   "cell_type": "markdown",
   "metadata": {},
   "source": [
    "e) How many rows and columns does this matrix have?"
   ]
  },
  {
   "cell_type": "code",
   "execution_count": 10,
   "metadata": {},
   "outputs": [
    {
     "name": "stdout",
     "output_type": "stream",
     "text": [
      "0.14285714285714285\n",
      "0.14285714285714285\n",
      "0.14285714285714285\n",
      "0.14285714285714285\n",
      "0.14285714285714285\n",
      "0.14285714285714285\n",
      "0.14285714285714285\n",
      "0.14285714285714285\n",
      "0.14285714285714285\n",
      "0.14285714285714285\n"
     ]
    }
   ],
   "source": [
    "#There are 5 rows and 8 columns\n",
    "\n",
    "def jaccard_dist(x, y):\n",
    "    intersection = len(list(set(x).intersection(y)))\n",
    "    union = (len(x) + len(y)) - intersection\n",
    "    return float(intersection) / union\n",
    "\n",
    "v1 = [0,1,1,0,0,0,0,0]\n",
    "v2 = [1,0,0,0,1,0,0,0]\n",
    "v3 = [0,0,0,1,1,1,1,1]\n",
    "v4 = [0,1,1,0,1,1,1,1]\n",
    "v5 = [1,0,0,1,0,0,0,0]\n",
    "\n",
    "print(jaccard_dist(v1,v2))\n",
    "print(jaccard_dist(v1,v3))\n",
    "print(jaccard_dist(v1,v4))\n",
    "print(jaccard_dist(v1,v5))\n",
    "print(jaccard_dist(v2,v3))\n",
    "print(jaccard_dist(v2,v4))\n",
    "print(jaccard_dist(v2,v5))\n",
    "print(jaccard_dist(v3,v4))\n",
    "print(jaccard_dist(v3,v5))\n",
    "print(jaccard_dist(v4,v5))"
   ]
  },
  {
   "cell_type": "markdown",
   "metadata": {},
   "source": [
    "f) When using the Jaccard distance, which two sentences are the most similar?"
   ]
  },
  {
   "cell_type": "markdown",
   "metadata": {},
   "source": [
    "They turns out to have the same jaccard distance."
   ]
  }
 ],
 "metadata": {
  "kernelspec": {
   "display_name": "Python 3",
   "language": "python",
   "name": "python3"
  },
  "language_info": {
   "codemirror_mode": {
    "name": "ipython",
    "version": 3
   },
   "file_extension": ".py",
   "mimetype": "text/x-python",
   "name": "python",
   "nbconvert_exporter": "python",
   "pygments_lexer": "ipython3",
   "version": "3.8.8"
  }
 },
 "nbformat": 4,
 "nbformat_minor": 2
}
