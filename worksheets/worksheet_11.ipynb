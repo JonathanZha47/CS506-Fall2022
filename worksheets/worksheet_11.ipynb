{
 "cells": [
  {
   "cell_type": "markdown",
   "metadata": {},
   "source": [
    "# Worksheet 11\n",
    "\n",
    "Name: Yiwei Zha\n",
    "UID: U74968240\n",
    "\n",
    "### Topics\n",
    "\n",
    "- Naive Bayes\n",
    "- Model Evaluation\n",
    "\n",
    "### Naive Bayes\n",
    "\n",
    "| Attribute A | Attribute B | Attribute C | Class |\n",
    "|-------------|-------------|-------------|-------|\n",
    "| Yes         | Single      | High        | No    |\n",
    "| No          | Married     | Mid         | No    |\n",
    "| No          | Single      | Low         | No    |\n",
    "| Yes         | Married     | High        | No    |\n",
    "| No          | Divorced    | Mid         | Yes   |\n",
    "| No          | Married     | Low         | No    |\n",
    "| Yes         | Divorced    | High        | No    |\n",
    "| No          | Single      | Mid         | Yes   |\n",
    "| No          | Married     | Low         | No    |\n",
    "| No          | Single      | Mid         | Yes   |\n",
    "\n",
    "a) Compute the following probabilities:\n",
    "\n",
    "- P(Attribute A = Yes | Class = No)\n",
    "- P(Attribute B = Divorced | Class = Yes)\n",
    "- P(Attribute C = High | Class = No)\n",
    "- P(Attribute C = Mid | Class = Yes)"
   ]
  },
  {
   "cell_type": "markdown",
   "metadata": {},
   "source": [
    "- P(Attribute A = Yes | Class = No) = 3/7\n",
    "- P(Attribute B = Divorced | Class = Yes) = 1/3\n",
    "- P(Attribute C = High | Class = No) = 3/7\n",
    "- P(Attribute C = Mid | Class = Yes) = 1"
   ]
  },
  {
   "cell_type": "markdown",
   "metadata": {},
   "source": [
    "b) Classify the following unseen records:\n",
    "\n",
    "- (Yes, Married, Mid)\n",
    "- (No, Divorced, High)\n",
    "- (No, Single, High)\n",
    "- (No, Divorced, Low)"
   ]
  },
  {
   "cell_type": "markdown",
   "metadata": {},
   "source": [
    "- For (Yes, Married, Mid) \n",
    "\n",
    "   P(X|Yes) = P(Yes|Yes)*P(Married|Yes)*P(Mid|Yes) = 0\n",
    "   P(X|No) = P(Yes|No)*P(Married|No)*P(Mid|No) = 3/7 * 4/7 * 1/7 > P(X|Yes) Hence, No. \n",
    "- For (No, Divorced, High)\n",
    "\n",
    "   P(X|Yes) = P(No|Yes)*P(Divorced|Yes)*P(High|Yes) = 1 * 1/3 * 0 = 0\n",
    "   P(X|No) = P(No|No)*P(Divorced|No)*P(High|No) = 4/7 * 1/7 * 3/7 > P(X|Yes) Hence, No.\n",
    "- For (No, Single, High)\n",
    "\n",
    "   P(X|Yes) = P(No|Yes)*P(Single|Yes)*P(High|Yes) = 1 * 2/3 * 0 = 0\n",
    "   P(X|No) = P(No|No)*P(Single|No)*P(High|No) = 4/7 * 2/7 * 3/7 > P(X|Yes) Hence, No.\n",
    "- For (No, Divorced, Low)\n",
    "\n",
    "   P(X|Yes) = P(No|Yes)*P(Divorced|Yes)*P(Low|Yes) = 1 * 1/3 * 0 = 0\n",
    "   P(X|No) = P(No|No)*P(Divorced|No)*P(Low|No) = 4/7 * 1/7 * 3/7 > P(X|Yes) Hence, No. "
   ]
  },
  {
   "cell_type": "markdown",
   "metadata": {},
   "source": [
    "### Model Evaluation\n",
    "\n",
    "a) Write a function to generate the confusion matrix for a list of actual classes and a list of predicted classes"
   ]
  },
  {
   "cell_type": "code",
   "execution_count": 17,
   "metadata": {},
   "outputs": [
    {
     "name": "stdout",
     "output_type": "stream",
     "text": [
      "[[2 1]\n",
      " [3 4]]\n"
     ]
    }
   ],
   "source": [
    "import numpy as np\n",
    "actual_class = [\"Yes\", \"No\", \"No\", \"Yes\", \"No\", \"No\", \"Yes\", \"No\", \"No\", \"No\"]\n",
    "predicted_class = [\"Yes\", \"No\", \"Yes\", \"No\", \"No\", \"No\", \"Yes\", \"Yes\", \"Yes\", \"No\"]\n",
    "\n",
    "def confusion_matrix(actual, predicted):\n",
    "    YY = 0\n",
    "    YN = 0\n",
    "    NN = 0\n",
    "    NY = 0\n",
    "    confusionmatrix = []\n",
    "    for i in range(len(actual)):\n",
    "        if actual[i] =='Yes' and predicted[i] == 'Yes':\n",
    "            YY += 1\n",
    "        if actual[i] == 'Yes' and predicted[i] == 'No':\n",
    "            YN += 1\n",
    "        if actual[i] == 'No' and predicted[i] == 'No':\n",
    "            NN += 1\n",
    "        if actual[i] == 'No' and predicted[i] == 'Yes':\n",
    "            NY += 1\n",
    "    confusionmatrix = np.array([[YY, YN],[NY, NN]])\n",
    "    return confusionmatrix\n",
    "\n",
    "print(confusion_matrix(actual_class, predicted_class))\n",
    "\n"
   ]
  },
  {
   "cell_type": "markdown",
   "metadata": {},
   "source": [
    "b) Assume you have the following Cost Matrix:\n",
    "\n",
    "|            | predicted = Y | predicted = N |\n",
    "|------------|---------------|---------------|\n",
    "| actual = Y |       -1      |       5       |\n",
    "| actual = N |        10     |       0       |\n",
    "\n",
    "What is the cost of the above classification?"
   ]
  },
  {
   "cell_type": "markdown",
   "metadata": {},
   "source": [
    "Cost = -2 + 5 + 30 + 0 = 33"
   ]
  },
  {
   "cell_type": "markdown",
   "metadata": {},
   "source": [
    "c) Write a function that takes in the actual values, the predictions, and a cost matrix and outputs a cost. Test it on the above example."
   ]
  },
  {
   "cell_type": "code",
   "execution_count": 18,
   "metadata": {},
   "outputs": [
    {
     "name": "stdout",
     "output_type": "stream",
     "text": [
      "33\n"
     ]
    }
   ],
   "source": [
    "\n",
    "def cost(actual, pred, cost_matrix):\n",
    "    cm = confusion_matrix(actual, pred)\n",
    "    cost = np.sum(cm * cost_matrix)\n",
    "    return cost\n",
    "cost_matrix = np.array([[-1, 5], [10, 0]])\n",
    "print(cost(actual_class, predicted_class, cost_matrix))\n",
    "\n"
   ]
  },
  {
   "cell_type": "markdown",
   "metadata": {},
   "source": [
    "d) Implement functions for the following:\n",
    "\n",
    "- accuracy\n",
    "- precision\n",
    "- recall\n",
    "- f-measure\n",
    "\n",
    "and apply them to the above example."
   ]
  },
  {
   "cell_type": "code",
   "execution_count": 20,
   "metadata": {},
   "outputs": [
    {
     "name": "stdout",
     "output_type": "stream",
     "text": [
      "0.6\n",
      "0.4\n",
      "0.6666666666666666\n",
      "0.5\n"
     ]
    }
   ],
   "source": [
    "def accuracy(actual, pred):\n",
    "    cm = confusion_matrix(actual, pred)\n",
    "    result = (cm[0][0]+cm[1][1])/(cm[0][0]+cm[0][1]+cm[1][0]+cm[1][1])\n",
    "    return result\n",
    "\n",
    "def precision(actual, pred):\n",
    "    cm = confusion_matrix(actual, pred)\n",
    "    result = (cm[0][0])/(cm[0][0]+cm[1][0])\n",
    "    return result\n",
    "\n",
    "def recall(actual, pred):\n",
    "    cm = confusion_matrix(actual, pred)\n",
    "    result = (cm[0][0])/(cm[0][0]+cm[0][1])\n",
    "    return result\n",
    "\n",
    "def f_measure(actual, pred):\n",
    "    pre = precision(actual, pred)\n",
    "    recal= recall(actual, pred)\n",
    "    result = 2*recal*pre/(recal+pre)\n",
    "    return result\n",
    "\n",
    "print(accuracy(actual_class, predicted_class))\n",
    "print(precision(actual_class, predicted_class))\n",
    "print(recall(actual_class, predicted_class))\n",
    "print(f_measure(actual_class, predicted_class))"
   ]
  }
 ],
 "metadata": {
  "kernelspec": {
   "display_name": "Python 3.8.8 ('base')",
   "language": "python",
   "name": "python3"
  },
  "language_info": {
   "codemirror_mode": {
    "name": "ipython",
    "version": 3
   },
   "file_extension": ".py",
   "mimetype": "text/x-python",
   "name": "python",
   "nbconvert_exporter": "python",
   "pygments_lexer": "ipython3",
   "version": "3.8.8"
  },
  "orig_nbformat": 4,
  "vscode": {
   "interpreter": {
    "hash": "13bc552a7c9cbec849fefd8e631ee1b786da484769c1e1aebae2c7b42ac5b988"
   }
  }
 },
 "nbformat": 4,
 "nbformat_minor": 2
}
