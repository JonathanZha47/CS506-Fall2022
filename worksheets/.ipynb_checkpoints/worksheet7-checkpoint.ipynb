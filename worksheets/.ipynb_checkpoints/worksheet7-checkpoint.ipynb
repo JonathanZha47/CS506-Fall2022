{
 "cells": [
  {
   "cell_type": "markdown",
   "metadata": {},
   "source": [
    "# Worksheet 07\n",
    "\n",
    "Name:Yiwei Zha \n",
    "UID: U74968240\n",
    "\n",
    "### Topics\n",
    "\n",
    "- Soft Clustering\n",
    "- Clustering Aggregation\n",
    "\n",
    "### Probability Review\n",
    "\n",
    "Read through [the following](https://medium.com/@gallettilance/overview-of-probability-3272b72c82c8)\n",
    "\n",
    "### Soft Clustering\n",
    "\n",
    "We generate 10 data points that come from a normal distribution with mean 5 and variance 1."
   ]
  },
  {
   "cell_type": "code",
   "execution_count": 1,
   "metadata": {},
   "outputs": [
    {
     "name": "stdout",
     "output_type": "stream",
     "text": [
      "[4.308364036175366, 5.088935311210692, 5.973352408028425, 3.737252174577045, 7.4174764976440155, 5.075983894510124, 6.308800668240824, 5.067956496996504, 4.747400490434245, 4.463174369756462]\n"
     ]
    }
   ],
   "source": [
    "import random\n",
    "import numpy as np\n",
    "from sklearn.cluster import KMeans\n",
    "\n",
    "mean = 5\n",
    "stdev = 1\n",
    "\n",
    "c1 = np.random.normal(mean, stdev, 10).tolist()\n",
    "print(c1)"
   ]
  },
  {
   "cell_type": "markdown",
   "metadata": {},
   "source": [
    "a) Generate 10 more data points, this time coming from a normal distribution with mean 8 and variance 1."
   ]
  },
  {
   "cell_type": "code",
   "execution_count": 3,
   "metadata": {},
   "outputs": [
    {
     "name": "stdout",
     "output_type": "stream",
     "text": [
      "[6.961455478757079, 7.372596154680819, 8.361881492584807, 7.219216841548538, 7.8296633860783675, 8.227025036310668, 8.480596041570152, 7.270613963769302, 5.227921744594109, 9.090306980835479]\n"
     ]
    }
   ],
   "source": [
    "c2 = np.random.normal( 8 , 1 , 10 ).tolist()\n",
    "print(c2)"
   ]
  },
  {
   "cell_type": "markdown",
   "metadata": {},
   "source": [
    "b) Flip a fair coin 10 times. If the coin lands on H, then pick the last data point of `c1` and remove it from `c1`, if T then pick the last data point from `c2` and remove it from `c2`. Add these 10 points to a list called `data`."
   ]
  },
  {
   "cell_type": "code",
   "execution_count": 5,
   "metadata": {},
   "outputs": [
    {
     "name": "stdout",
     "output_type": "stream",
     "text": [
      "[4.463174369756462, 4.747400490434245, 5.067956496996504, 6.308800668240824, 9.090306980835479, 5.075983894510124, 5.227921744594109, 7.4174764976440155, 7.270613963769302, 3.737252174577045]\n"
     ]
    }
   ],
   "source": [
    "data = []\n",
    "for i in range(10):\n",
    "    # flip coin\n",
    "    coin_output = random.choice([0, 1])\n",
    "    if coin_output == 0:\n",
    "        p1 = c1[-1]\n",
    "        c1 = c1[:-1]\n",
    "        data.append(p1)\n",
    "    else:\n",
    "        p2 = c2[-1]\n",
    "        c2 = c2[:-1]\n",
    "        data.append(p2)\n",
    "print(data)"
   ]
  },
  {
   "cell_type": "markdown",
   "metadata": {},
   "source": [
    "c) This `data` is a Gaussian Mixture Distribution with 2 mixture components. Over the next few questions we will walk through the GMM algorithm to see if we can uncover the parameters we used to generate this data. First, please list all these parameters of the GMM that created `data` and the values we know they have."
   ]
  },
  {
   "cell_type": "markdown",
   "metadata": {},
   "source": [
    "P(C1) = P(C2) = 0.5\n",
    "mu1 = 5\n",
    "mu2 = 8\n",
    "var1 = var2 = 1"
   ]
  },
  {
   "cell_type": "markdown",
   "metadata": {},
   "source": [
    "d) Let's assume there are two mixture components (note: we could plot the data and make the observation that there are two clusters). The EM algorithm asks us to start with a random `mean_j`, `variance_j`, `P(C_j)` for each component j. One method we could use to find sensible values for these is to apply K means with k=2 here.\n",
    "\n",
    "1. the centroids would be the estimates of the `mean_j`\n",
    "2. the intra-cluster variance could be the estimate of `variance_j`\n",
    "3. the proportion of points in each cluster could be the estimate of `P(C_j)`\n",
    "\n",
    "Go through this process and list the parameter estimates it gives. Are they close or far from the true values?"
   ]
  },
  {
   "cell_type": "code",
   "execution_count": 9,
   "metadata": {},
   "outputs": [
    {
     "name": "stdout",
     "output_type": "stream",
     "text": [
      "[4.463174369756462, 4.747400490434245, 5.067956496996504, 5.075983894510124, 5.227921744594109, 3.737252174577045]\n",
      "[6.308800668240824, 9.090306980835479, 7.4174764976440155, 7.270613963769302]\n",
      "P(C_1) = 0.6,  P(C_2) = 0.4\n",
      "mean_1 = 4.719948195144748,  mean_2 = 7.521799527622404\n",
      "var_1 = 0.2563810365135521,  var_2 = 8.851760725736334\n"
     ]
    }
   ],
   "source": [
    "kmeans = KMeans(2, init='k-means++').fit(X=np.array(data).reshape(-1, 1))\n",
    "\n",
    "c1 = [x[0] for x in filter(lambda x: x[1] == 0, zip(data, kmeans.labels_))]\n",
    "print(c1)\n",
    "c2 = [x[0] for x in filter(lambda x: x[1] == 1, zip(data, kmeans.labels_))]\n",
    "print(c2)\n",
    "\n",
    "prob_c = [ len(c1) / (len(c1) + len(c2)) , len(c2) / (len(c1) + len(c2)) ]\n",
    "mean = [ sum(c1)/len(c1) , sum(c2)/len(c2) ]\n",
    "var = [ sum(map(lambda x : (x - mean[0])**2, c1)) / len(c1) , sum(map(lambda x : (x - mean[0])**2, c2)) / len(c2) ]\n",
    "\n",
    "print(\"P(C_1) = \" + str(prob_c[0]) + \",  P(C_2) = \" + str(prob_c[1]))\n",
    "print(\"mean_1 = \" + str(mean[0]) + \",  mean_2 = \" + str(mean[1]))\n",
    "print(\"var_1 = \" + str(var[0]) + \",  var_2 = \" + str(var[1]))"
   ]
  },
  {
   "cell_type": "markdown",
   "metadata": {},
   "source": [
    "I think both mean and probability are pretty close to the true value while the variance of both datasets are not close to the true value."
   ]
  },
  {
   "cell_type": "markdown",
   "metadata": {},
   "source": [
    "e) For each data point, compute `P(C_j | X_i)`. Comment on which cluster you think each point belongs to based on the estimated probabilities. How does that compare to the truth?"
   ]
  },
  {
   "cell_type": "code",
   "execution_count": 11,
   "metadata": {},
   "outputs": [
    {
     "name": "stdout",
     "output_type": "stream",
     "text": [
      "point =  4.463174369756462\n",
      "probability of observing that point if it came from cluster 0 =  0.9423474394033758\n",
      "probability of observing that point if it came from cluster 1 =  0.04245742829023298\n",
      "point =  4.747400490434245\n",
      "probability of observing that point if it came from cluster 0 =  1.5471574323973\n",
      "probability of observing that point if it came from cluster 1 =  0.042908994539646514\n",
      "point =  5.067956496996504\n",
      "probability of observing that point if it came from cluster 0 =  0.619341889198165\n",
      "probability of observing that point if it came from cluster 1 =  0.04337035781355258\n",
      "point =  6.308800668240824\n",
      "probability of observing that point if it came from cluster 0 =  7.117685582308463e-09\n",
      "probability of observing that point if it came from cluster 1 =  0.04464807049953944\n",
      "point =  9.090306980835479\n",
      "probability of observing that point if it came from cluster 0 =  1.241261307846905e-63\n",
      "probability of observing that point if it came from cluster 1 =  0.04436722077222752\n",
      "point =  5.075983894510124\n",
      "probability of observing that point if it came from cluster 0 =  0.5932802695715639\n",
      "probability of observing that point if it came from cluster 1 =  0.043381244576723474\n",
      "point =  5.227921744594109\n",
      "probability of observing that point if it came from cluster 0 =  0.2185659023585367\n",
      "probability of observing that point if it came from cluster 1 =  0.04358105915751533\n",
      "point =  7.4174764976440155\n",
      "probability of observing that point if it came from cluster 0 =  1.4227451402877046e-24\n",
      "probability of observing that point if it came from cluster 1 =  0.04506612720996932\n",
      "point =  7.270613963769302\n",
      "probability of observing that point if it came from cluster 0 =  5.0048499135256515e-22\n",
      "probability of observing that point if it came from cluster 1 =  0.04505111482525086\n",
      "point =  3.737252174577045\n",
      "probability of observing that point if it came from cluster 0 =  0.0010041581492839314\n",
      "probability of observing that point if it came from cluster 1 =  0.04113263977811353\n",
      "4.463174369756462\n",
      "Probability of coming from C_1 = 0.9708392495207034\n",
      "Probability of coming from C_2 = 0.0291607504792966\n",
      "\n",
      "4.747400490434245\n",
      "Probability of coming from C_1 = 0.98184626204815\n",
      "Probability of coming from C_2 = 0.018153737951849963\n",
      "\n",
      "5.067956496996504\n",
      "Probability of coming from C_1 = 0.9553978738138126\n",
      "Probability of coming from C_2 = 0.04460212618618743\n",
      "\n",
      "6.308800668240824\n",
      "Probability of coming from C_1 = 2.3912625340740306e-07\n",
      "Probability of coming from C_2 = 0.9999997608737465\n",
      "\n",
      "9.090306980835479\n",
      "Probability of coming from C_1 = 4.196548554007789e-62\n",
      "Probability of coming from C_2 = 1.0\n",
      "\n",
      "5.075983894510124\n",
      "Probability of coming from C_1 = 0.9535185171629457\n",
      "Probability of coming from C_2 = 0.04648148283705436\n",
      "\n",
      "5.227921744594109\n",
      "Probability of coming from C_1 = 0.8826668028935398\n",
      "Probability of coming from C_2 = 0.11733319710646023\n",
      "\n",
      "7.4174764976440155\n",
      "Probability of coming from C_1 = 4.7355249775255974e-23\n",
      "Probability of coming from C_2 = 1.0\n",
      "\n",
      "7.270613963769302\n",
      "Probability of coming from C_1 = 1.6663904765528018e-20\n",
      "Probability of coming from C_2 = 1.0\n",
      "\n",
      "3.737252174577045\n",
      "Probability of coming from C_1 = 0.03532544311272206\n",
      "Probability of coming from C_2 = 0.9646745568872779\n",
      "\n"
     ]
    }
   ],
   "source": [
    "from scipy.stats import norm\n",
    "\n",
    "prob_c0_x = [] # P(C_0 | X_i)\n",
    "prob_c1_x = [] # P(C_1 | X_i)\n",
    "prob_x = [] # P(X_i)\n",
    "\n",
    "k = 2\n",
    "\n",
    "for p in data:\n",
    "    print(\"point = \", p)\n",
    "    pdf_i = []\n",
    "\n",
    "    for j in range(k):\n",
    "        # P(X_i | C_j)\n",
    "        pdf_i.append(norm.pdf(p, mean[j], var[j]))\n",
    "        print(\"probability of observing that point if it came from cluster \" + str(j) + \" = \", pdf_i[j])\n",
    "        # P(C_j) already computed\n",
    "        prob_c[j]\n",
    "\n",
    "    # P(X_i) = P(C_0)P(X_i | C_0) + P(C_1)P(X_i | C_1)\n",
    "    prob_x = prob_c[0] * pdf_i[0] + prob_c[1] * pdf_i[1]\n",
    "\n",
    "    # P(C_j | X_i) = P(X_i | C_j)P(C_j) / P(X_i)\n",
    "    prob_c0_x.append( (pdf_i[0]*prob_c[0]) / prob_x )\n",
    "    prob_c1_x.append( (pdf_i[1]*prob_c[1]) / prob_x )\n",
    "\n",
    "probs = zip(data, prob_c0_x, prob_c1_x)\n",
    "for p in probs:\n",
    "    print(p[0])\n",
    "    print(\"Probability of coming from C_1 = \" + str(p[1]))\n",
    "    print(\"Probability of coming from C_2 = \" + str(p[2]))\n",
    "    print()\n"
   ]
  },
  {
   "cell_type": "markdown",
   "metadata": {},
   "source": [
    "f) Having computed `P(C_j | X_i)`, update the estimates of `mean_j`, `var_j`, and `P(C_j)`. How different are these values from the original ones you got from K means? briefly comment."
   ]
  },
  {
   "cell_type": "code",
   "execution_count": 13,
   "metadata": {},
   "outputs": [
    {
     "name": "stdout",
     "output_type": "stream",
     "text": [
      "P(C_1) = 0.47795943876781266,  P(C_2) = 0.5220405612321872\n",
      "mean_1 = 4.900569891410441,  mean_2 = 6.701423898820098\n",
      "var_1 = 0.4072719388499908,  var_2 = 15.885530286362506\n"
     ]
    }
   ],
   "source": [
    "prob_c = [sum(prob_c0_x)/ len(prob_c0_x), sum(prob_c1_x)/ len(prob_c1_x) ]\n",
    "mean = [sum([x[0] * x[1] for x in zip(prob_c0_x, data)]) / sum(prob_c0_x), sum([x[0] * x[1] for x in zip(prob_c1_x, data)]) / sum(prob_c1_x) ]\n",
    "var = [ sum(map(lambda x: x[0]*(x[1] - mean[0])**2, zip(prob_c0_x, data))) ,  sum(map(lambda x: x[0]*(x[1] - mean[1])**2, zip(prob_c1_x, data)))]\n",
    "\n",
    "print(\"P(C_1) = \" + str(prob_c[0]) + \",  P(C_2) = \" + str(prob_c[1]))\n",
    "print(\"mean_1 = \" + str(mean[0]) + \",  mean_2 = \" + str(mean[1]))\n",
    "print(\"var_1 = \" + str(var[0]) + \",  var_2 = \" + str(var[1]))"
   ]
  },
  {
   "cell_type": "markdown",
   "metadata": {},
   "source": [
    "The probability is close to the true value. And the mean estimation is kind of close but worse than the K means method. But, the variance estimation is still no good. "
   ]
  },
  {
   "cell_type": "markdown",
   "metadata": {},
   "source": [
    "g) Update `P(C_j | X_i)`. Comment on any differences or lack thereof you observe."
   ]
  },
  {
   "cell_type": "code",
   "execution_count": null,
   "metadata": {},
   "outputs": [],
   "source": []
  },
  {
   "cell_type": "markdown",
   "metadata": {},
   "source": []
  },
  {
   "cell_type": "markdown",
   "metadata": {},
   "source": [
    "h) Use `P(C_j | X_i)` to create a hard assignment - label each point as belonging to a specific cluster (0 or 1)"
   ]
  },
  {
   "cell_type": "code",
   "execution_count": null,
   "metadata": {},
   "outputs": [],
   "source": []
  },
  {
   "cell_type": "markdown",
   "metadata": {},
   "source": [
    "### Clustering Aggregation\n",
    "\n",
    "| Point | C | P |\n",
    "|-------|---|---|\n",
    "| A     | 0 | a |\n",
    "| B     | 0 | b |\n",
    "| C     | 2 | b |\n",
    "| D     | 1 | c |\n",
    "| E     | 1 | d |\n",
    "\n",
    "a) Fill in the following table where for each pair of points determine whether C and P agree or disagree on how to cluster that pair."
   ]
  },
  {
   "cell_type": "markdown",
   "metadata": {},
   "source": [
    "| Pair | Disagreement |\n",
    "|------|--------------|\n",
    "| A  B |      1       |\n",
    "| A  C |      0       |\n",
    "| A  D |      0       |\n",
    "| A  E |      0       |\n",
    "| B  C |      1       |\n",
    "| B  D |      0       |\n",
    "| B  E |      0       |\n",
    "| C  D |      0       |\n",
    "| C  E |      0       |\n",
    "| D  E |      1       |\n"
   ]
  },
  {
   "cell_type": "markdown",
   "metadata": {},
   "source": [
    "As datasets become very large, this process can become computationally challenging.\n",
    "\n",
    "b) Given N points, what is the formula for the number of unique pairs of points one can create?"
   ]
  },
  {
   "cell_type": "markdown",
   "metadata": {},
   "source": [
    "sum(D(P,C))"
   ]
  },
  {
   "cell_type": "markdown",
   "metadata": {},
   "source": [
    "Assume that clustering C clusters all points in the same cluster and clustering P clusters points as such:\n",
    "\n",
    "| Point | P |\n",
    "|-------|---|\n",
    "| A     | 0 |\n",
    "| B     | 0 |\n",
    "| C     | 0 |\n",
    "| D     | 1 |\n",
    "| E     | 1 |\n",
    "| F     | 2 |\n",
    "| G     | 2 |\n",
    "| H     | 2 |\n",
    "| I     | 2 |\n",
    "\n",
    "c) What is the maximum number of disagreements there could be for a dataset of this size? (use the formula from b)?"
   ]
  },
  {
   "cell_type": "markdown",
   "metadata": {},
   "source": [
    "26"
   ]
  },
  {
   "cell_type": "markdown",
   "metadata": {},
   "source": [
    "d) If we look at cluster 0. There are (3 x 2) / 2 = 3 pairs that agree with C (since all points in C are in the same cluster). For each cluster, determine how many agreements there are. How many total agreements are there? How many disagreements does that mean there are between C and P?"
   ]
  },
  {
   "cell_type": "markdown",
   "metadata": {},
   "source": []
  },
  {
   "cell_type": "markdown",
   "metadata": {},
   "source": [
    "e) Assuming that filtering the dataset by cluster number is a computationally easy operation, describe an algorithm inspired by the above process that can efficiently compute disagreement distances on large datasets."
   ]
  },
  {
   "cell_type": "markdown",
   "metadata": {},
   "source": []
  }
 ],
 "metadata": {
  "interpreter": {
   "hash": "76ca05dc3ea24b2e3b98cdb7774adfbb40773424bf5109b477fd793f623715af"
  },
  "kernelspec": {
   "display_name": "Python 3",
   "language": "python",
   "name": "python3"
  },
  "language_info": {
   "codemirror_mode": {
    "name": "ipython",
    "version": 3
   },
   "file_extension": ".py",
   "mimetype": "text/x-python",
   "name": "python",
   "nbconvert_exporter": "python",
   "pygments_lexer": "ipython3",
   "version": "3.8.8"
  }
 },
 "nbformat": 4,
 "nbformat_minor": 2
}
